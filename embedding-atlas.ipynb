{
 "cells": [
  {
   "cell_type": "code",
   "execution_count": 1,
   "id": "78549be1",
   "metadata": {},
   "outputs": [],
   "source": [
    "# /// script\n",
    "# requires-python = \">=3.9\"\n",
    "# dependencies = [\n",
    "#    \"polars\",\n",
    "#    \"embedding-atlas\",\n",
    "#    \"anywidget\"\n",
    "# ]\n",
    "# ///"
   ]
  },
  {
   "cell_type": "code",
   "execution_count": 3,
   "id": "fd6bb99d",
   "metadata": {},
   "outputs": [
    {
     "data": {
      "application/vnd.jupyter.widget-view+json": {
       "model_id": "90dd11ff88274eb59b6fb032a76a6038",
       "version_major": 2,
       "version_minor": 0
      },
      "text/plain": [
       "FloatProgress(value=0.0, layout=Layout(width='auto'), style=ProgressStyle(bar_color='black'))"
      ]
     },
     "metadata": {},
     "output_type": "display_data"
    },
    {
     "data": {
      "application/vnd.jupyter.widget-view+json": {
       "model_id": "75952b9bf81f4224b48a1ee369b381f3",
       "version_major": 2,
       "version_minor": 1
      },
      "text/plain": [
       "EmbeddingAtlasWidget()"
      ]
     },
     "execution_count": 3,
     "metadata": {},
     "output_type": "execute_result"
    }
   ],
   "source": [
    "import polars as pl\n",
    "from embedding_atlas.widget import EmbeddingAtlasWidget\n",
    "\n",
    "df = pl.read_parquet(\"https://apple.github.io/embedding-atlas/demo/data/dataset.parquet\")\n",
    "\n",
    "widget = EmbeddingAtlasWidget(df, text=\"description\", x=\"projection_x\", y=\"projection_y\")\n",
    "widget"
   ]
  },
  {
   "cell_type": "code",
   "execution_count": 6,
   "id": "31ce94c5-5a3b-4de6-b52f-e82b01eff642",
   "metadata": {},
   "outputs": [
    {
     "data": {
      "text/html": [
       "<div>\n",
       "<style scoped>\n",
       "    .dataframe tbody tr th:only-of-type {\n",
       "        vertical-align: middle;\n",
       "    }\n",
       "\n",
       "    .dataframe tbody tr th {\n",
       "        vertical-align: top;\n",
       "    }\n",
       "\n",
       "    .dataframe thead th {\n",
       "        text-align: right;\n",
       "    }\n",
       "</style>\n",
       "<table border=\"1\" class=\"dataframe\">\n",
       "  <thead>\n",
       "    <tr style=\"text-align: right;\">\n",
       "      <th></th>\n",
       "      <th>title</th>\n",
       "      <th>country</th>\n",
       "      <th>province</th>\n",
       "      <th>description</th>\n",
       "      <th>points</th>\n",
       "      <th>price</th>\n",
       "      <th>variety</th>\n",
       "      <th>designation</th>\n",
       "      <th>_row_index</th>\n",
       "      <th>projection_x</th>\n",
       "      <th>projection_y</th>\n",
       "      <th>__neighbors</th>\n",
       "      <th>__row_id__</th>\n",
       "    </tr>\n",
       "  </thead>\n",
       "  <tbody>\n",
       "    <tr>\n",
       "      <th>0</th>\n",
       "      <td>None</td>\n",
       "      <td>Italy</td>\n",
       "      <td>Veneto</td>\n",
       "      <td>Made with organic grapes, this easygoing Merlo...</td>\n",
       "      <td>83</td>\n",
       "      <td>12.0</td>\n",
       "      <td>Merlot</td>\n",
       "      <td>Terra Summa</td>\n",
       "      <td>72062</td>\n",
       "      <td>-8.719995</td>\n",
       "      <td>4.953674</td>\n",
       "      <td>{'distances': [0.0, 0.0, 0.0, 0.19858407431568...</td>\n",
       "      <td>145791</td>\n",
       "    </tr>\n",
       "    <tr>\n",
       "      <th>1</th>\n",
       "      <td>Seven Hills 2011 Seven Hills Vineyard Merlot (...</td>\n",
       "      <td>US</td>\n",
       "      <td>Washington</td>\n",
       "      <td>Entirely estate-grown, 100% Merlot from old vi...</td>\n",
       "      <td>93</td>\n",
       "      <td>35.0</td>\n",
       "      <td>Merlot</td>\n",
       "      <td>Seven Hills Vineyard</td>\n",
       "      <td>133362</td>\n",
       "      <td>-8.720192</td>\n",
       "      <td>4.953738</td>\n",
       "      <td>{'distances': [0.0, 0.0, 0.19858407431568814, ...</td>\n",
       "      <td>20723</td>\n",
       "    </tr>\n",
       "    <tr>\n",
       "      <th>2</th>\n",
       "      <td>None</td>\n",
       "      <td>Italy</td>\n",
       "      <td>Veneto</td>\n",
       "      <td>Made with organic grapes, this easygoing Merlo...</td>\n",
       "      <td>83</td>\n",
       "      <td>12.0</td>\n",
       "      <td>Merlot</td>\n",
       "      <td>Terra Summa</td>\n",
       "      <td>150859</td>\n",
       "      <td>-8.720251</td>\n",
       "      <td>4.953733</td>\n",
       "      <td>{'distances': [0.0, 0.0, 0.0, 0.19858407431568...</td>\n",
       "      <td>54604</td>\n",
       "    </tr>\n",
       "    <tr>\n",
       "      <th>3</th>\n",
       "      <td>Seven Hills 2011 Seven Hills Vineyard Merlot (...</td>\n",
       "      <td>US</td>\n",
       "      <td>Washington</td>\n",
       "      <td>Entirely estate-grown, 100% Merlot from old vi...</td>\n",
       "      <td>93</td>\n",
       "      <td>35.0</td>\n",
       "      <td>Merlot</td>\n",
       "      <td>Seven Hills Vineyard</td>\n",
       "      <td>153978</td>\n",
       "      <td>-8.720197</td>\n",
       "      <td>4.953706</td>\n",
       "      <td>{'distances': [0.0, 0.0, 0.19858407431568814, ...</td>\n",
       "      <td>61819</td>\n",
       "    </tr>\n",
       "    <tr>\n",
       "      <th>4</th>\n",
       "      <td>Pizzolato 2009 Terra Summa Merlot (Piave)</td>\n",
       "      <td>Italy</td>\n",
       "      <td>Veneto</td>\n",
       "      <td>Made with organic grapes, this easygoing Merlo...</td>\n",
       "      <td>83</td>\n",
       "      <td>12.0</td>\n",
       "      <td>Merlot</td>\n",
       "      <td>Terra Summa</td>\n",
       "      <td>168257</td>\n",
       "      <td>-8.720267</td>\n",
       "      <td>4.953729</td>\n",
       "      <td>{'distances': [0.0, 0.0, 0.0, 0.19858407431568...</td>\n",
       "      <td>90434</td>\n",
       "    </tr>\n",
       "  </tbody>\n",
       "</table>\n",
       "</div>"
      ],
      "text/plain": [
       "                                               title country    province  \\\n",
       "0                                               None   Italy      Veneto   \n",
       "1  Seven Hills 2011 Seven Hills Vineyard Merlot (...      US  Washington   \n",
       "2                                               None   Italy      Veneto   \n",
       "3  Seven Hills 2011 Seven Hills Vineyard Merlot (...      US  Washington   \n",
       "4          Pizzolato 2009 Terra Summa Merlot (Piave)   Italy      Veneto   \n",
       "\n",
       "                                         description  points  price variety  \\\n",
       "0  Made with organic grapes, this easygoing Merlo...      83   12.0  Merlot   \n",
       "1  Entirely estate-grown, 100% Merlot from old vi...      93   35.0  Merlot   \n",
       "2  Made with organic grapes, this easygoing Merlo...      83   12.0  Merlot   \n",
       "3  Entirely estate-grown, 100% Merlot from old vi...      93   35.0  Merlot   \n",
       "4  Made with organic grapes, this easygoing Merlo...      83   12.0  Merlot   \n",
       "\n",
       "            designation  _row_index  projection_x  projection_y  \\\n",
       "0           Terra Summa       72062     -8.719995      4.953674   \n",
       "1  Seven Hills Vineyard      133362     -8.720192      4.953738   \n",
       "2           Terra Summa      150859     -8.720251      4.953733   \n",
       "3  Seven Hills Vineyard      153978     -8.720197      4.953706   \n",
       "4           Terra Summa      168257     -8.720267      4.953729   \n",
       "\n",
       "                                         __neighbors  __row_id__  \n",
       "0  {'distances': [0.0, 0.0, 0.0, 0.19858407431568...      145791  \n",
       "1  {'distances': [0.0, 0.0, 0.19858407431568814, ...       20723  \n",
       "2  {'distances': [0.0, 0.0, 0.0, 0.19858407431568...       54604  \n",
       "3  {'distances': [0.0, 0.0, 0.19858407431568814, ...       61819  \n",
       "4  {'distances': [0.0, 0.0, 0.0, 0.19858407431568...       90434  "
      ]
     },
     "execution_count": 6,
     "metadata": {},
     "output_type": "execute_result"
    }
   ],
   "source": [
    "widget.selection()"
   ]
  },
  {
   "cell_type": "code",
   "execution_count": null,
   "id": "7604e7f0-ee54-4a4d-93fd-ba80dfae2508",
   "metadata": {},
   "outputs": [],
   "source": []
  }
 ],
 "metadata": {
  "kernelspec": {
   "display_name": "Python 3 (ipykernel)",
   "language": "python",
   "name": "python3"
  },
  "language_info": {
   "codemirror_mode": {
    "name": "ipython",
    "version": 3
   },
   "file_extension": ".py",
   "mimetype": "text/x-python",
   "name": "python",
   "nbconvert_exporter": "python",
   "pygments_lexer": "ipython3",
   "version": "3.12.10"
  }
 },
 "nbformat": 4,
 "nbformat_minor": 5
}
