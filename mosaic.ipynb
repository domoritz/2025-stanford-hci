{
 "cells": [
  {
   "cell_type": "code",
   "execution_count": 4,
   "id": "78549be1",
   "metadata": {
    "jupyter": {
     "source_hidden": true
    }
   },
   "outputs": [],
   "source": [
    "# /// script\n",
    "# requires-python = \">=3.9\"\n",
    "# dependencies = [\n",
    "#    \"mosaic_widget\",\n",
    "#    \"polars\"\n",
    "# ]\n",
    "# ///"
   ]
  },
  {
   "cell_type": "code",
   "execution_count": 3,
   "id": "fd6bb99d",
   "metadata": {},
   "outputs": [
    {
     "data": {
      "application/vnd.jupyter.widget-view+json": {
       "model_id": "7b0aa7ea38ea4babb11ab442739e694b",
       "version_major": 2,
       "version_minor": 1
      },
      "text/plain": [
       "MosaicWidget(spec={'meta': {'title': 'Seattle Weather', 'description': \"An interactive view of Seattle's weath…"
      ]
     },
     "execution_count": 3,
     "metadata": {},
     "output_type": "execute_result"
    }
   ],
   "source": [
    "import polars as pl\n",
    "import yaml\n",
    "\n",
    "from mosaic_widget import MosaicWidget\n",
    "\n",
    "weather = pl.read_csv(\"https://uwdata.github.io/mosaic-datasets/data/seattle-weather.csv\", try_parse_dates=True)\n",
    "\n",
    "# Load weather spec, remove data key to ensure load from Pandas\n",
    "with open(\"weather.yaml\") as f:\n",
    "    spec = yaml.safe_load(f)\n",
    "    spec.pop(\"data\")\n",
    "\n",
    "MosaicWidget(spec, data = {\"weather\": weather})"
   ]
  },
  {
   "cell_type": "code",
   "execution_count": null,
   "id": "31ce94c5-5a3b-4de6-b52f-e82b01eff642",
   "metadata": {},
   "outputs": [],
   "source": []
  }
 ],
 "metadata": {
  "kernelspec": {
   "display_name": "Python 3 (ipykernel)",
   "language": "python",
   "name": "python3"
  },
  "language_info": {
   "codemirror_mode": {
    "name": "ipython",
    "version": 3
   },
   "file_extension": ".py",
   "mimetype": "text/x-python",
   "name": "python",
   "nbconvert_exporter": "python",
   "pygments_lexer": "ipython3",
   "version": "3.12.10"
  }
 },
 "nbformat": 4,
 "nbformat_minor": 5
}
