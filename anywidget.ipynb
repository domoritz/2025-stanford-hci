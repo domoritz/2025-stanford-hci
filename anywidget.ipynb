{
 "cells": [
  {
   "cell_type": "code",
   "execution_count": 1,
   "id": "ea9cae00",
   "metadata": {
    "jupyter": {
     "source_hidden": true
    }
   },
   "outputs": [],
   "source": [
    "# /// script\n",
    "# requires-python = \">=3.9\"\n",
    "# dependencies = [\n",
    "#     \"anywidget[dev]\",\n",
    "# ]\n",
    "# ///"
   ]
  },
  {
   "cell_type": "code",
   "execution_count": 2,
   "id": "69ec212e-29f5-4793-ad23-bbdb815fad90",
   "metadata": {},
   "outputs": [],
   "source": [
    "import anywidget\n",
    "import traitlets\n",
    "import pathlib"
   ]
  },
  {
   "cell_type": "markdown",
   "id": "2a6f2b3a-a946-431c-bdc2-a55cc3bec826",
   "metadata": {},
   "source": [
    "# Widget code inline"
   ]
  },
  {
   "cell_type": "code",
   "execution_count": 3,
   "id": "23cf9b57",
   "metadata": {},
   "outputs": [],
   "source": [
    "class CounterWidget(anywidget.AnyWidget):\n",
    "    # Widget front-end JavaScript code\n",
    "    _esm = \"\"\"\n",
    "    function render({ model, el }) {\n",
    "      let button = document.createElement(\"button\");\n",
    "      button.innerHTML = `count is ${model.get(\"value\")}`;\n",
    "      button.addEventListener(\"click\", () => {\n",
    "        model.set(\"value\", model.get(\"value\") + 1);\n",
    "        model.save_changes();\n",
    "      });\n",
    "      model.on(\"change:value\", () => {\n",
    "        button.innerHTML = `count is ${model.get(\"value\")}`;\n",
    "      });\n",
    "      el.appendChild(button);\n",
    "    }\n",
    "    export default { render };\n",
    "    \"\"\"\n",
    "    # Stateful property that can be accessed by JavaScript & Python\n",
    "    value = traitlets.Int(0).tag(sync=True)"
   ]
  },
  {
   "cell_type": "code",
   "execution_count": 4,
   "id": "2c4cd9d6-6f38-483f-9419-6c309c95890b",
   "metadata": {},
   "outputs": [
    {
     "data": {
      "application/vnd.jupyter.widget-view+json": {
       "model_id": "78c2845e5f9448b19d3dec82ad7308b3",
       "version_major": 2,
       "version_minor": 1
      },
      "text/plain": [
       "CounterWidget()"
      ]
     },
     "execution_count": 4,
     "metadata": {},
     "output_type": "execute_result"
    }
   ],
   "source": [
    "w = CounterWidget()\n",
    "w"
   ]
  },
  {
   "cell_type": "code",
   "execution_count": 5,
   "id": "24c312e4-1fb2-47ac-98dc-e5ea6cfb4e23",
   "metadata": {},
   "outputs": [
    {
     "data": {
      "text/plain": [
       "0"
      ]
     },
     "execution_count": 5,
     "metadata": {},
     "output_type": "execute_result"
    }
   ],
   "source": [
    "w.value"
   ]
  },
  {
   "cell_type": "markdown",
   "id": "412b7d9b-9d58-4947-9522-c164879390b1",
   "metadata": {},
   "source": [
    "# Widget from files"
   ]
  },
  {
   "cell_type": "code",
   "execution_count": 27,
   "id": "d6d38b05-0d37-43e3-a6ea-995cc2826e56",
   "metadata": {},
   "outputs": [],
   "source": [
    "class CounterWidget2(anywidget.AnyWidget):\n",
    "    _esm = pathlib.Path(\"index.js\")\n",
    "    _css = pathlib.Path(\"styles.css\")\n",
    "    value = traitlets.Int(0).tag(sync=True)"
   ]
  },
  {
   "cell_type": "code",
   "execution_count": 28,
   "id": "8e3b39ea-6298-4b4d-b92d-b44b1c8d9813",
   "metadata": {},
   "outputs": [
    {
     "data": {
      "application/vnd.jupyter.widget-view+json": {
       "model_id": "26b25f92b70e44468c7951039f75aaa3",
       "version_major": 2,
       "version_minor": 1
      },
      "text/plain": [
       "CounterWidget2()"
      ]
     },
     "execution_count": 28,
     "metadata": {},
     "output_type": "execute_result"
    }
   ],
   "source": [
    "CounterWidget2()"
   ]
  },
  {
   "cell_type": "markdown",
   "id": "9e19a2a5-ff65-43a3-ae70-fe0c7ae946a2",
   "metadata": {},
   "source": [
    "# Widget from JavaScript library"
   ]
  },
  {
   "cell_type": "code",
   "execution_count": 29,
   "id": "dd5b31ff-fa92-4f8d-b940-30b7f897675b",
   "metadata": {},
   "outputs": [
    {
     "data": {
      "application/vnd.jupyter.widget-view+json": {
       "model_id": "014b404f86584e6c90e02c95d21f4f14",
       "version_major": 2,
       "version_minor": 1
      },
      "text/plain": [
       "ConfettiWidget()"
      ]
     },
     "execution_count": 29,
     "metadata": {},
     "output_type": "execute_result"
    }
   ],
   "source": [
    "class ConfettiWidget(anywidget.AnyWidget):\n",
    "    _esm = \"\"\"\n",
    "    import confetti from \"https://esm.sh/canvas-confetti@1.6\";\n",
    "\n",
    "    function render({ model, el }) {\n",
    "      let btn = document.createElement(\"button\");\n",
    "      btn.classList.add(\"confetti-button\");\n",
    "      btn.innerHTML = \"click me!\";\n",
    "      btn.addEventListener(\"click\", () => {\n",
    "        confetti();\n",
    "      });\n",
    "      el.appendChild(btn);\n",
    "    }\n",
    "\n",
    "    export default { render };\n",
    "    \"\"\"\n",
    "    _css=\"\"\"\n",
    "    .confetti-button { background-color: #0c71eb; }\n",
    "    \"\"\"\n",
    "\n",
    "ConfettiWidget()"
   ]
  },
  {
   "cell_type": "markdown",
   "id": "c248ccd8-3983-4644-b4e7-8c5b259a44df",
   "metadata": {},
   "source": [
    "Learn more on the [AnyWidget website](https://anywidget.dev/blog/introducing-anywidget/)."
   ]
  },
  {
   "cell_type": "code",
   "execution_count": null,
   "id": "6b12faf5-5087-46d4-8316-e21daae66537",
   "metadata": {},
   "outputs": [],
   "source": []
  }
 ],
 "metadata": {
  "kernelspec": {
   "display_name": "Python 3 (ipykernel)",
   "language": "python",
   "name": "python3"
  },
  "language_info": {
   "codemirror_mode": {
    "name": "ipython",
    "version": 3
   },
   "file_extension": ".py",
   "mimetype": "text/x-python",
   "name": "python",
   "nbconvert_exporter": "python",
   "pygments_lexer": "ipython3",
   "version": "3.12.10"
  }
 },
 "nbformat": 4,
 "nbformat_minor": 5
}
